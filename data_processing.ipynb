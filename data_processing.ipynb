{
 "cells": [
  {
   "cell_type": "code",
   "execution_count": 168,
   "metadata": {},
   "outputs": [],
   "source": [
    "import numpy as np\n",
    "import pandas as pd\n",
    "import matplotlib.pyplot as plt\n",
    "import json\n",
    "import ast\n",
    "import datetime"
   ]
  },
  {
   "cell_type": "markdown",
   "metadata": {},
   "source": [
    "# Load the data"
   ]
  },
  {
   "cell_type": "markdown",
   "metadata": {},
   "source": [
    "## Metadata"
   ]
  },
  {
   "cell_type": "code",
   "execution_count": 220,
   "metadata": {},
   "outputs": [],
   "source": [
    "metadata = pd.read_csv('movies_dataset/movies_metadata.csv')"
   ]
  },
  {
   "cell_type": "markdown",
   "metadata": {},
   "source": [
    "Let's precise what each column corresponds to. We have:\n",
    "<ul>\n",
    "    <li>adult: specify if the film is X-Rated/Adults only or not<\\li>\n",
    "    <li>belongs_to_collection: specify if the movie is part of a series of movies (such as the Harry Potter franchise)<\\li>\n",
    "    <li>poster_path: directly gives the path to the jpg poster image<\\li>\n",
    "    <li>budget: budget of the movie (in dollars)<\\li>\n",
    "    <li>revenue: revenue of the movie (in dollars)<\\li>\n",
    "    <li>genres: list of genres the movie is associated with <\\li>\n",
    "    <li>homepage: url to the homepage of the movie (if existing)<\\li>\n",
    "    <li>imdb_id: id in the IMDB database<\\li>\n",
    "    <li>original_language: language the movie was originally shot in<\\li>\n",
    "    <li>overview: short description of the story<\\li>\n",
    "    <li>release_date: release date of the movie (to be splitted in day, month and year for further analysis)<\\li>\n",
    "    <li>runtime: duration of the movie (in minutes)<\\li>\n",
    "    <li>spoken_languages: list of spoken languages in the movie<\\li>\n",
    "    <li>status: status of the film (Released, Rumored, Post Production, In Production, Planned, Canceled)<\\li>\n",
    "    <li>tagline: tagline of the movie (if existing)<\\li>\n",
    "    <li>title: title of the movie (in English)<\\li>\n",
    "    <li>original_title: original title of the movie (in the original language)<\\li>\n",
    "    <li>vote_average: average of all votes for the movie<\\li>\n",
    "    <li>vote_count: number of votes from which the vote_average is computed<\\li>\n",
    "    <li>popularity: popularity score of the movie<\\li>\n",
    "    <li>production_companies: list of companies that have produced the film<\\li>\n",
    "<\\ul>"
   ]
  },
  {
   "cell_type": "code",
   "execution_count": 170,
   "metadata": {},
   "outputs": [
    {
     "name": "stdout",
     "output_type": "stream",
     "text": [
      "In the dataset there are 45466 movies.\n"
     ]
    }
   ],
   "source": [
    "print('In the dataset there are %d movies.' %len(metadata))"
   ]
  },
  {
   "cell_type": "markdown",
   "metadata": {},
   "source": [
    "### Temporal dimension"
   ]
  },
  {
   "cell_type": "markdown",
   "metadata": {},
   "source": [
    "Let's extract from the release_date feature the weekday, month and year for each movie. We will use the datetime function weekday() to extract the corresponding day of the week (as it is far more interesting than the actual number) and directly convert the month number to the corresponding name (01 to 'Jan' for instance)."
   ]
  },
  {
   "cell_type": "code",
   "execution_count": 171,
   "metadata": {},
   "outputs": [],
   "source": [
    "month_order = ['Jan', 'Feb', 'Mar', 'Apr', 'May', 'Jun', 'Jul', 'Aug', 'Sep', 'Oct', 'Nov', 'Dec']\n",
    "day_order = ['Mon', 'Tue', 'Wed', 'Thu', 'Fri', 'Sat', 'Sun']"
   ]
  },
  {
   "cell_type": "code",
   "execution_count": 172,
   "metadata": {},
   "outputs": [],
   "source": [
    "def get_year(x):\n",
    "    try:\n",
    "        year = int(str(x).split('-')[0])\n",
    "        #Check if year is larger than 1800 since some values do not make sense (a 1 has been found)\n",
    "        if year < 1800:\n",
    "            year = np.nan\n",
    "        return year\n",
    "    except:\n",
    "        return np.nan"
   ]
  },
  {
   "cell_type": "code",
   "execution_count": 173,
   "metadata": {},
   "outputs": [],
   "source": [
    "def get_month(x):\n",
    "    try:\n",
    "        return month_order[int(str(x).split('-')[1]) - 1]\n",
    "    except:\n",
    "        return np.nan"
   ]
  },
  {
   "cell_type": "code",
   "execution_count": 174,
   "metadata": {},
   "outputs": [],
   "source": [
    "def get_day(x):\n",
    "    try:\n",
    "        year, month, day = (int(i) for i in x.split('-')) \n",
    "        answer = datetime.date(year, month, day).weekday()\n",
    "        return day_order[answer]\n",
    "    except:\n",
    "        return np.nan"
   ]
  },
  {
   "cell_type": "code",
   "execution_count": 175,
   "metadata": {},
   "outputs": [],
   "source": [
    "metadata['year'] = metadata.release_date.map(lambda x: get_year(x))\n",
    "metadata['month'] = metadata.release_date.map(lambda x: get_month(x))\n",
    "metadata['weekday'] = metadata.release_date.map(lambda x: get_day(x))"
   ]
  },
  {
   "cell_type": "code",
   "execution_count": 176,
   "metadata": {},
   "outputs": [
    {
     "name": "stdout",
     "output_type": "stream",
     "text": [
      "The first movie in the dataset has been released in 1874 and the last in 2020.\n"
     ]
    }
   ],
   "source": [
    "year_min = metadata.year.min()\n",
    "year_max = metadata.year.max()\n",
    "print('The first movie in the dataset has been released in %d and the last in %d.' %(year_min, year_max))"
   ]
  },
  {
   "cell_type": "code",
   "execution_count": 177,
   "metadata": {},
   "outputs": [
    {
     "data": {
      "image/png": "[encoded data removed]",
      "text/plain": [
       "<Figure size 432x288 with 1 Axes>"
      ]
     },
     "metadata": {
      "needs_background": "light"
     },
     "output_type": "display_data"
    }
   ],
   "source": [
    "metadata.year.hist(bins = int(year_max - year_min + 1))\n",
    "plt.title('Distribution of movies released by year in the dataset', fontsize = 20)\n",
    "plt.xlabel('Year', fontsize = 18)\n",
    "plt.ylabel('Number of movies', fontsize = 18)\n",
    "plt.show()"
   ]
  },
  {
   "cell_type": "markdown",
   "metadata": {},
   "source": [
    "### Adult"
   ]
  },
  {
   "cell_type": "markdown",
   "metadata": {},
   "source": [
    "Let's observe the \"adult\" column. It seems only 9 movies are rated as X-Rated/Adults only, with three other movies containing erronous information (probably corresponding to the tagline of the film)."
   ]
  },
  {
   "cell_type": "code",
   "execution_count": 178,
   "metadata": {},
   "outputs": [
    {
     "data": {
      "text/plain": [
       "False                                                                                                                             45454\n",
       "True                                                                                                                                  9\n",
       " - Written by Ørnås                                                                                                                   1\n",
       " Rune Balot goes to a casino connected to the October corporation to try to wrap up her case once and for all.                        1\n",
       " Avalanche Sharks tells the story of a bikini contest that turns into a horrifying affair when it is hit by a shark avalanche.        1\n",
       "Name: adult, dtype: int64"
      ]
     },
     "execution_count": 178,
     "metadata": {},
     "output_type": "execute_result"
    }
   ],
   "source": [
    "metadata.adult.value_counts()"
   ]
  },
  {
   "cell_type": "markdown",
   "metadata": {},
   "source": [
    "### Franchises"
   ]
  },
  {
   "cell_type": "markdown",
   "metadata": {},
   "source": [
    "Since the belongs_to_collection column is cast to str, let's use the json library to load it to a dict and extract the name of the franchise (the other informations can be droped since the poster path is also stored in the dedicated column)."
   ]
  },
  {
   "cell_type": "code",
   "execution_count": 179,
   "metadata": {},
   "outputs": [],
   "source": [
    "def extract_collection(collection):\n",
    "    collection_name = 'Not a franchise!'\n",
    "    if collection != 'nan': \n",
    "        collection_dict = json.loads(collection.replace('\\'', '\\\"'))\n",
    "        collection_name = collection_dict['name']\n",
    "    return collection_name"
   ]
  },
  {
   "cell_type": "markdown",
   "metadata": {},
   "source": [
    "DOESN'T WORK!!!"
   ]
  },
  {
   "cell_type": "code",
   "execution_count": 182,
   "metadata": {},
   "outputs": [],
   "source": [
    "#metadata['belongs_to_collection'] = metadata['belongs_to_collection'].map(lambda x: extract_collection(str(x)))"
   ]
  },
  {
   "cell_type": "markdown",
   "metadata": {},
   "source": [
    "### Budget and revenues"
   ]
  },
  {
   "cell_type": "markdown",
   "metadata": {},
   "source": [
    "Let's observe the revenue and budget colums. We notice a lot of the values for the revenue and the budget are 0. This in fact represents the fact that we do not have information for those movies budget, therefore we will replace them by NaN values (to not skew further computations towards 0)."
   ]
  },
  {
   "cell_type": "code",
   "execution_count": 183,
   "metadata": {},
   "outputs": [],
   "source": [
    "metadata.replace(0, np.nan, inplace = True)"
   ]
  },
  {
   "cell_type": "markdown",
   "metadata": {},
   "source": [
    "The same process is applied to the budget, after converting it to numeric values, since some unclean values make Pandas cast it as a generic object."
   ]
  },
  {
   "cell_type": "code",
   "execution_count": 184,
   "metadata": {},
   "outputs": [],
   "source": [
    "metadata['budget'] = pd.to_numeric(metadata['budget'], errors='coerce')\n",
    "metadata['budget'].replace(0, np.nan, inplace = True)"
   ]
  },
  {
   "cell_type": "code",
   "execution_count": 185,
   "metadata": {},
   "outputs": [
    {
     "name": "stdout",
     "output_type": "stream",
     "text": [
      "Out of 45466 movies, 36576 do not have a budget.\n",
      "Out of 45466 movies, 38058 do not have a budget.\n"
     ]
    }
   ],
   "source": [
    "print('Out of %d movies, %d do not have a budget.' %(len(metadata), len(metadata[metadata['budget'].isnull()])))\n",
    "print('Out of %d movies, %d do not have a budget.' %(len(metadata), len(metadata[metadata['revenue'].isnull()])))"
   ]
  },
  {
   "cell_type": "markdown",
   "metadata": {},
   "source": [
    "We are missing budget and revenue values for a lot of movies, but still we have informations about these features on more than 7000 movies."
   ]
  },
  {
   "cell_type": "markdown",
   "metadata": {},
   "source": [
    "### Poster"
   ]
  },
  {
   "cell_type": "markdown",
   "metadata": {},
   "source": [
    "Let's add the full path to the jpg poster images (as an image component, easier to handle later on our website)."
   ]
  },
  {
   "cell_type": "code",
   "execution_count": 186,
   "metadata": {},
   "outputs": [],
   "source": [
    "base_poster_url = 'http://image.tmdb.org/t/p/w185/'\n",
    "metadata['poster_path'] = \"<img src='\" + base_poster_url + metadata['poster_path'] + \"' style='height:100px;'>\""
   ]
  },
  {
   "cell_type": "markdown",
   "metadata": {},
   "source": [
    "### Genres"
   ]
  },
  {
   "cell_type": "code",
   "execution_count": 224,
   "metadata": {},
   "outputs": [
    {
     "data": {
      "text/plain": [
       "\"[{'id': 16, 'name': 'Animation'}, {'id': 35, 'name': 'Comedy'}, {'id': 10751, 'name': 'Family'}]\""
      ]
     },
     "execution_count": 224,
     "metadata": {},
     "output_type": "execute_result"
    }
   ],
   "source": [
    "metadata.genres.iloc[0]"
   ]
  },
  {
   "cell_type": "markdown",
   "metadata": {},
   "source": [
    "### Title, overview and taglines"
   ]
  },
  {
   "cell_type": "markdown",
   "metadata": {},
   "source": [
    "Let's ensure these are all in str type for further analyses."
   ]
  },
  {
   "cell_type": "code",
   "execution_count": 221,
   "metadata": {},
   "outputs": [],
   "source": [
    "metadata['title'] = metadata['title'].astype('str')\n",
    "metadata['overview'] = metadata['overview'].astype('str')\n",
    "metadata['tagline'] = metadata['tagline'].astype('str')"
   ]
  },
  {
   "cell_type": "markdown",
   "metadata": {},
   "source": [
    "### Production countries"
   ]
  },
  {
   "cell_type": "code",
   "execution_count": 227,
   "metadata": {},
   "outputs": [
    {
     "data": {
      "text/plain": [
       "\"[{'iso_3166_1': 'US', 'name': 'United States of America'}]\""
      ]
     },
     "execution_count": 227,
     "metadata": {},
     "output_type": "execute_result"
    }
   ],
   "source": [
    "metadata['production_countries'].iloc[10]"
   ]
  },
  {
   "cell_type": "markdown",
   "metadata": {},
   "source": [
    "## Credits"
   ]
  },
  {
   "cell_type": "code",
   "execution_count": 10,
   "metadata": {},
   "outputs": [],
   "source": [
    "credits = pd.read_csv('movies_dataset/credits.csv')"
   ]
  },
  {
   "cell_type": "markdown",
   "metadata": {},
   "source": [
    "## Ratings"
   ]
  },
  {
   "cell_type": "code",
   "execution_count": 12,
   "metadata": {},
   "outputs": [],
   "source": [
    "ratings = pd.read_csv('movies_dataset/ratings.csv')"
   ]
  },
  {
   "cell_type": "code",
   "execution_count": null,
   "metadata": {},
   "outputs": [],
   "source": []
  }
 ],
 "metadata": {
  "kernelspec": {
   "display_name": "Python 3",
   "language": "python",
   "name": "python3"
  },
  "language_info": {
   "codemirror_mode": {
    "name": "ipython",
    "version": 3
   },
   "file_extension": ".py",
   "mimetype": "text/x-python",
   "name": "python",
   "nbconvert_exporter": "python",
   "pygments_lexer": "ipython3",
   "version": "3.7.4"
  }
 },
 "nbformat": 4,
 "nbformat_minor": 4
}
